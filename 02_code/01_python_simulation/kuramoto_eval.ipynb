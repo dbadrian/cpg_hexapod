{
 "cells": [
  {
   "cell_type": "code",
   "execution_count": 2,
   "metadata": {
    "collapsed": false
   },
   "outputs": [],
   "source": [
    "import math\n",
    "import numpy as np\n",
    "import matplotlib.pyplot as plt\n",
    "%matplotlib inline\n",
    "\n",
    "import time"
   ]
  },
  {
   "cell_type": "code",
   "execution_count": 30,
   "metadata": {
    "collapsed": false
   },
   "outputs": [],
   "source": [
    "def update_s(wn, w, phi, Phi, r, r_d, x, x_d, ar, ax, h, N):\n",
    "    \n",
    "    new_Phi = np.array([[0.0], [0.0], [0.0]])  # Phase\n",
    "    new_r = np.array([[0.0], [0.0], [0.0]])   # Amplitude\n",
    "    new_r_d = np.array([[0.0], [0.0], [0.0]])   # Amplit|ude_D\n",
    "    new_x = np.array([[0.0], [0.0], [0.0]])   # Offset\n",
    "    new_x_d = np.array([[0.0], [0.0], [0.0]])   # Offset_D\n",
    "    theta = np.array([[0.0], [0.0], [0.0]])\n",
    "\n",
    "    for i in range(N):\n",
    "        Phi_d = np.copy(wn[i]) \n",
    "        for j in range(N):\n",
    "            Phi_d += w[i,j] * r[j] * np.sin(Phi[j] - Phi[i] - phi[i,j])\n",
    "        new_Phi[i] = Phi[i] + h * Phi_d\n",
    "    \n",
    "    for i in range(N):\n",
    "        r_dd = ar * ( (ar/4) * (R[i]-r[i]) - r_d[i])\n",
    "        new_r_d[i] = r_d[i] + h * r_dd\n",
    "        new_r[i] = r[i] + h * r_d[i]\n",
    "\n",
    "    for i in range(N):\n",
    "        x_dd = ax * ( (ax/4) * (X[i]-x[i]) - x_d[i])\n",
    "        new_x_d[i] = x_d[i] + h * x_dd\n",
    "        new_x[i] = x[i] + h * new_x_d[i]\n",
    "        \n",
    "    for i in range(N):\n",
    "        theta[i] =  x[i] + r[i] * np.sin(new_Phi[i])\n",
    "        \n",
    "    return (np.copy(new_Phi), np.copy(new_r), np.copy(new_r_d), np.copy(new_x), np.copy(new_x_d, np.copy(theta))\n",
    "    "
   ]
  },
  {
   "cell_type": "code",
   "execution_count": 31,
   "metadata": {
    "collapsed": false
   },
   "outputs": [],
   "source": [
    "# Constants\n",
    "N=3 # Three Oscillators\n",
    "ar=100 # rad/s\n",
    "ax=100 # rad/s\n",
    "wn = np.array([[1.0], [1.0], [1.0]]) # natural frequency: \"speed\"|\n",
    "\n",
    "# Coupling Weights (in 1/s=Hz)\n",
    "w = np.matrix([[0,   0, 0],\n",
    "               [0.5, 0, 0],\n",
    "               [0.5, 0, 0]])\n",
    "\n",
    "\n",
    "# Phase Bias (in rad)\\\n",
    "PI = math.pi\n",
    "phi_fwd = np.matrix([[0    , 0, 0],\n",
    "                     [PI/2 , 0, 0],\n",
    "                     [-PI/2, 0, 0]])\n",
    "phi_bwd = np.matrix([[0    , 0, 0],\n",
    "                     [-PI/2 , 0, 0],\n",
    "                     [PI/2, 0, 0]])\n",
    "phi_rtr = np.matrix([[0    , 0, 0],\n",
    "                     [PI/2 , 0, 0],\n",
    "                     [PI/2, 0, 0]])\n",
    "phi_rtl = np.matrix([[0    , 0, 0],\n",
    "                     [-PI/2 , 0, 0],\n",
    "                     [-PI/2, 0, 0]])\n",
    "phi = phi_fwd\n",
    "\n",
    "# Target Values\n",
    "R = np.array([[12.0], [40.0], [40.0]])     # Amplitude\n",
    "X = np.array([[0.0], [0.0], [0.0]])    # Offset\n",
    "\n",
    "# State Variables\n",
    "Phi = np.array([[0.0], [0.0], [0.0]])  # Phase\n",
    "r = np.array([[0.0], [0.0], [0.0]])   # Amplitude\n",
    "r_d = np.array([[0.0], [0.0], [0.0]])   # Amplit|ude_D\n",
    "x = np.array([[0.0], [0.0], [0.0]])   # Offset\n",
    "x_d = np.array([[0.0], [0.0], [0.0]])   # Offset_D\n",
    "\n",
    "theta = None\n",
    "Phi_plot = None\n",
    "\n",
    "# Starts With Forwards\n",
    "gait_switch = [( 0, phi_fwd,\"Forward\"),\n",
    "#                (12, phi_rtr, \"CWR\"),\n",
    "#                (24, phi_bwd, 'Backward'),\n",
    "#                (36, phi_rtl, \"CCWR\"),\n",
    "#                (48, phi_fwd, 'Forward')\n",
    "              ]\n",
    "gait_o = gait_switch\n",
    "\n",
    "sim_time = 60 # seconds\n",
    "h = 0.01 # euler step length in seconds\n",
    "for step in range(0,int(sim_time/h)):\n",
    "    if len(gait_switch) and step*h > gait_switch[0][0]:\n",
    "        phi = gait_switch[0][1]\n",
    "        gait_switch = gait_switch[1:]\n",
    "    \n",
    "    \n",
    "    Phi, r, r_d, x, x_d, n_theta = update_s(wn, w, phi, Phi, r, r_d, x, x_d, ar, ax, h, N)\n",
    "    if theta is None:\n",
    "        theta = n_theta\n",
    "        Phi_plot = np.transpose(Phi)\n",
    "    else:\n",
    "        theta = np.vstack((theta, n_theta))\n",
    "        Phi_plot = np.vstack((Phi_plot, np.transpose(Phi)))"
   ]
  },
  {
   "cell_type": "code",
   "execution_count": 32,
   "metadata": {
    "collapsed": false
   },
   "outputs": [
    {
     "ename": "IndexError",
     "evalue": "index 1 is out of bounds for axis 1 with size 1",
     "output_type": "error",
     "traceback": [
      "\u001b[0;31m---------------------------------------------------------------------------\u001b[0m",
      "\u001b[0;31mIndexError\u001b[0m                                Traceback (most recent call last)",
      "\u001b[0;32m<ipython-input-32-19cdc39bd78c>\u001b[0m in \u001b[0;36m<module>\u001b[0;34m()\u001b[0m\n\u001b[1;32m      1\u001b[0m \u001b[0mplt\u001b[0m\u001b[0;34m.\u001b[0m\u001b[0mfigure\u001b[0m\u001b[0;34m(\u001b[0m\u001b[0mnum\u001b[0m\u001b[0;34m=\u001b[0m\u001b[0;32mNone\u001b[0m\u001b[0;34m,\u001b[0m \u001b[0mfigsize\u001b[0m\u001b[0;34m=\u001b[0m\u001b[0;34m(\u001b[0m\u001b[0;36m15\u001b[0m\u001b[0;34m,\u001b[0m \u001b[0;36m6\u001b[0m\u001b[0;34m)\u001b[0m\u001b[0;34m,\u001b[0m \u001b[0mdpi\u001b[0m\u001b[0;34m=\u001b[0m\u001b[0;36m80\u001b[0m\u001b[0;34m,\u001b[0m \u001b[0mfacecolor\u001b[0m\u001b[0;34m=\u001b[0m\u001b[0;34m'w'\u001b[0m\u001b[0;34m,\u001b[0m \u001b[0medgecolor\u001b[0m\u001b[0;34m=\u001b[0m\u001b[0;34m'k'\u001b[0m\u001b[0;34m)\u001b[0m\u001b[0;34m\u001b[0m\u001b[0m\n\u001b[1;32m      2\u001b[0m \u001b[0mplt_m1\u001b[0m\u001b[0;34m,\u001b[0m \u001b[0;34m=\u001b[0m \u001b[0mplt\u001b[0m\u001b[0;34m.\u001b[0m\u001b[0mplot\u001b[0m\u001b[0;34m(\u001b[0m\u001b[0mtheta\u001b[0m\u001b[0;34m[\u001b[0m\u001b[0;34m:\u001b[0m\u001b[0;34m,\u001b[0m\u001b[0;36m0\u001b[0m\u001b[0;34m]\u001b[0m\u001b[0;34m,\u001b[0m \u001b[0mlabel\u001b[0m\u001b[0;34m=\u001b[0m\u001b[0;34m'Motor 1'\u001b[0m\u001b[0;34m)\u001b[0m\u001b[0;34m\u001b[0m\u001b[0m\n\u001b[0;32m----> 3\u001b[0;31m \u001b[0mplt_m2\u001b[0m\u001b[0;34m,\u001b[0m \u001b[0;34m=\u001b[0m \u001b[0mplt\u001b[0m\u001b[0;34m.\u001b[0m\u001b[0mplot\u001b[0m\u001b[0;34m(\u001b[0m\u001b[0mtheta\u001b[0m\u001b[0;34m[\u001b[0m\u001b[0;34m:\u001b[0m\u001b[0;34m,\u001b[0m\u001b[0;36m1\u001b[0m\u001b[0;34m]\u001b[0m\u001b[0;34m,\u001b[0m \u001b[0mlabel\u001b[0m\u001b[0;34m=\u001b[0m\u001b[0;34m\"Motor 2\"\u001b[0m\u001b[0;34m)\u001b[0m\u001b[0;34m\u001b[0m\u001b[0m\n\u001b[0m\u001b[1;32m      4\u001b[0m \u001b[0mplt_m3\u001b[0m\u001b[0;34m,\u001b[0m \u001b[0;34m=\u001b[0m \u001b[0mplt\u001b[0m\u001b[0;34m.\u001b[0m\u001b[0mplot\u001b[0m\u001b[0;34m(\u001b[0m\u001b[0mtheta\u001b[0m\u001b[0;34m[\u001b[0m\u001b[0;34m:\u001b[0m\u001b[0;34m,\u001b[0m\u001b[0;36m2\u001b[0m\u001b[0;34m]\u001b[0m\u001b[0;34m,\u001b[0m \u001b[0mlabel\u001b[0m\u001b[0;34m=\u001b[0m\u001b[0;34m\"Motor 3\"\u001b[0m\u001b[0;34m)\u001b[0m\u001b[0;34m\u001b[0m\u001b[0m\n\u001b[1;32m      5\u001b[0m \u001b[0;34m\u001b[0m\u001b[0m\n",
      "\u001b[0;31mIndexError\u001b[0m: index 1 is out of bounds for axis 1 with size 1"
     ]
    },
    {
     "data": {
      "image/png": "[encoded data removed]",
      "text/plain": [
       "<matplotlib.figure.Figure at 0x7f64bf5dcd30>"
      ]
     },
     "metadata": {},
     "output_type": "display_data"
    }
   ],
   "source": [
    "plt.figure(num=None, figsize=(15, 6), dpi=80, facecolor='w', edgecolor='k')\n",
    "plt_m1, = plt.plot(theta[:,0], label='Motor 1')\n",
    "plt_m2, = plt.plot(theta[:,1], label=\"Motor 2\")\n",
    "plt_m3, = plt.plot(theta[:,2], label=\"Motor 3\")\n",
    "\n",
    "colors = ['red', 'red', 'green', 'blue','magenta']\n",
    "# plt.axvspan(0, gait_o[0][0]/h, color=colors[0], alpha=0.1)\n",
    "# plt.text( (gait_o[0][0]/h - 0)/2, 45, gait_o[0][2] , fontsize=15, horizontalalignment='center')\n",
    "for idx, gait in enumerate(gait_o[1:]):\n",
    "    plt.axvspan(gait_o[idx][0]/h, gait_o[idx+1][0]/h, color=colors[idx+1], alpha=0.1)\n",
    "    plt.text((gait_o[idx+1][0] + gait_o[idx][0])/h/2 , 45, gait_o[idx][2],\n",
    "             fontsize=15, horizontalalignment='center')\n",
    "plt.axvspan(gait_o[-1][0]/h, sim_time/h, color='brown', alpha=0.1)\n",
    "plt.text( (sim_time/h + gait_o[-1][0]/h)/2, 45, gait_o[-1][2] , fontsize=15, horizontalalignment='center')\n",
    "plt.legend(handles=[plt_m1, plt_m2, plt_m3])\n",
    "\n",
    "\n",
    "plt.figure(num=None, figsize=(15, 6), dpi=80, facecolor='w', edgecolor='k')\n",
    "plt_m1, = plt.plot(Phi_plot[:,0], label='Motor 1')\n",
    "plt_m2, = plt.plot(Phi_plot[:,1], label=\"Motor 2\")\n",
    "plt_m3, = plt.plot(Phi_plot[:,2], label=\"Motor 3\")\n",
    "plt.legend(handles=[plt_m1, plt_m2, plt_m3])"
   ]
  },
  {
   "cell_type": "code",
   "execution_count": 14,
   "metadata": {
    "collapsed": false
   },
   "outputs": [
    {
     "ename": "IndentationError",
     "evalue": "unexpected indent (<ipython-input-14-e6ab799517b1>, line 2)",
     "output_type": "error",
     "traceback": [
      "\u001b[0;36m  File \u001b[0;32m\"<ipython-input-14-e6ab799517b1>\"\u001b[0;36m, line \u001b[0;32m2\u001b[0m\n\u001b[0;31m    for i in range(N):\u001b[0m\n\u001b[0m    ^\u001b[0m\n\u001b[0;31mIndentationError\u001b[0m\u001b[0;31m:\u001b[0m unexpected indent\n"
     ]
    }
   ],
   "source": [
    " \n",
    "        for i in range(N):\n",
    "            Phi_d += w[n][i] * r[i] * sin(Phi[i] - Phi[n] - phi[n][i])"
   ]
  },
  {
   "cell_type": "code",
   "execution_count": 15,
   "metadata": {
    "collapsed": false
   },
   "outputs": [
    {
     "data": {
      "text/plain": [
       "range(0, 3)"
      ]
     },
     "execution_count": 15,
     "metadata": {},
     "output_type": "execute_result"
    }
   ],
   "source": [
    "range(N)"
   ]
  },
  {
   "cell_type": "code",
   "execution_count": 16,
   "metadata": {
    "collapsed": false
   },
   "outputs": [
    {
     "ename": "IndexError",
     "evalue": "index 3 is out of bounds for axis 0 with size 3",
     "output_type": "error",
     "traceback": [
      "\u001b[0;31m---------------------------------------------------------------------------\u001b[0m",
      "\u001b[0;31mIndexError\u001b[0m                                Traceback (most recent call last)",
      "\u001b[0;32m<ipython-input-16-d5646e3a9e7a>\u001b[0m in \u001b[0;36m<module>\u001b[0;34m()\u001b[0m\n\u001b[0;32m----> 1\u001b[0;31m \u001b[0mprint\u001b[0m\u001b[0;34m(\u001b[0m\u001b[0mw\u001b[0m\u001b[0;34m[\u001b[0m\u001b[0;36m3\u001b[0m\u001b[0;34m,\u001b[0m\u001b[0;36m0\u001b[0m\u001b[0;34m]\u001b[0m\u001b[0;34m)\u001b[0m\u001b[0;34m\u001b[0m\u001b[0m\n\u001b[0m",
      "\u001b[0;32m/home/dadrian/anaconda3/lib/python3.6/site-packages/numpy/matrixlib/defmatrix.py\u001b[0m in \u001b[0;36m__getitem__\u001b[0;34m(self, index)\u001b[0m\n\u001b[1;32m    282\u001b[0m \u001b[0;34m\u001b[0m\u001b[0m\n\u001b[1;32m    283\u001b[0m         \u001b[0;32mtry\u001b[0m\u001b[0;34m:\u001b[0m\u001b[0;34m\u001b[0m\u001b[0m\n\u001b[0;32m--> 284\u001b[0;31m             \u001b[0mout\u001b[0m \u001b[0;34m=\u001b[0m \u001b[0mN\u001b[0m\u001b[0;34m.\u001b[0m\u001b[0mndarray\u001b[0m\u001b[0;34m.\u001b[0m\u001b[0m__getitem__\u001b[0m\u001b[0;34m(\u001b[0m\u001b[0mself\u001b[0m\u001b[0;34m,\u001b[0m \u001b[0mindex\u001b[0m\u001b[0;34m)\u001b[0m\u001b[0;34m\u001b[0m\u001b[0m\n\u001b[0m\u001b[1;32m    285\u001b[0m         \u001b[0;32mfinally\u001b[0m\u001b[0;34m:\u001b[0m\u001b[0;34m\u001b[0m\u001b[0m\n\u001b[1;32m    286\u001b[0m             \u001b[0mself\u001b[0m\u001b[0;34m.\u001b[0m\u001b[0m_getitem\u001b[0m \u001b[0;34m=\u001b[0m \u001b[0;32mFalse\u001b[0m\u001b[0;34m\u001b[0m\u001b[0m\n",
      "\u001b[0;31mIndexError\u001b[0m: index 3 is out of bounds for axis 0 with size 3"
     ]
    }
   ],
   "source": [
    "print(w[3,0])"
   ]
  },
  {
   "cell_type": "code",
   "execution_count": 125,
   "metadata": {
    "collapsed": false
   },
   "outputs": [
    {
     "name": "stdout",
     "output_type": "stream",
     "text": [
      "[ 6.]\n"
     ]
    }
   ],
   "source": [
    "new_Phi = np.array([[1.0], [2.0], [3.0]])\n",
    "print(new_Phi[0]+5)"
   ]
  },
  {
   "cell_type": "code",
   "execution_count": 29,
   "metadata": {
    "collapsed": false
   },
   "outputs": [
    {
     "data": {
      "text/plain": [
       "array([[  1.00000000e-02,   1.00000000e-02,   1.00000000e-02],\n",
       "       [  2.00000000e-02,   2.00000000e-02,   2.00000000e-02],\n",
       "       [  3.00000000e-02,   1.50000000e-02,   4.50000000e-02],\n",
       "       ..., \n",
       "       [  5.99800000e+01,   5.84092037e+01,   6.15507963e+01],\n",
       "       [  5.99900000e+01,   5.84192037e+01,   6.15607963e+01],\n",
       "       [  6.00000000e+01,   5.84292037e+01,   6.15707963e+01]])"
      ]
     },
     "execution_count": 29,
     "metadata": {},
     "output_type": "execute_result"
    }
   ],
   "source": [
    "Phi_plot"
   ]
  },
  {
   "cell_type": "code",
   "execution_count": null,
   "metadata": {
    "collapsed": true
   },
   "outputs": [],
   "source": []
  }
 ],
 "metadata": {
  "kernelspec": {
   "display_name": "Python 3",
   "language": "python",
   "name": "python3"
  },
  "language_info": {
   "codemirror_mode": {
    "name": "ipython",
    "version": 3
   },
   "file_extension": ".py",
   "mimetype": "text/x-python",
   "name": "python",
   "nbconvert_exporter": "python",
   "pygments_lexer": "ipython3",
   "version": "3.6.0"
  }
 },
 "nbformat": 4,
 "nbformat_minor": 2
}
